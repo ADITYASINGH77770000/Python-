{
 "cells": [
  {
   "cell_type": "markdown",
   "id": "cc95629d",
   "metadata": {},
   "source": [
    "# Problem Solving - 1"
   ]
  },
  {
   "cell_type": "raw",
   "id": "01921787",
   "metadata": {},
   "source": [
    "1. Write a Program to display A person's Name, age and address in three different lines. "
   ]
  },
  {
   "cell_type": "code",
   "execution_count": 3,
   "id": "3efdf58c",
   "metadata": {},
   "outputs": [
    {
     "name": "stdout",
     "output_type": "stream",
     "text": [
      "Aditya singh\n",
      "23\n",
      "Delhi\n"
     ]
    }
   ],
   "source": [
    "name = \"Aditya singh\"\n",
    "age = 23\n",
    "address = \"Delhi\"\n",
    "\n",
    "print(name)\n",
    "print(age)\n",
    "print(address)"
   ]
  },
  {
   "cell_type": "raw",
   "id": "fd28cc65",
   "metadata": {},
   "source": [
    "2. Write a program to swap two variables."
   ]
  },
  {
   "cell_type": "code",
   "execution_count": 12,
   "id": "bf556572",
   "metadata": {},
   "outputs": [
    {
     "name": "stdout",
     "output_type": "stream",
     "text": [
      "Value of x is 20\n",
      "value of y is 23\n",
      "23\n",
      "20\n"
     ]
    }
   ],
   "source": [
    "# Method 1 \n",
    "x = 23\n",
    "y = 20\n",
    "temp = x\n",
    "x = y\n",
    "y = temp\n",
    "print(\"Value of x is\",x)\n",
    "print(\"value of y is\",y)\n",
    "\n",
    "# Method 2\n",
    "x = 23\n",
    "y = 20\n",
    "#left,right = right,left\n",
    "x,y = y,x\n",
    "print(y)\n",
    "print(x)"
   ]
  },
  {
   "cell_type": "raw",
   "id": "fbfb9063",
   "metadata": {},
   "source": [
    "3. Write a program to convert a float into integer."
   ]
  },
  {
   "cell_type": "code",
   "execution_count": 13,
   "id": "e2571d62",
   "metadata": {},
   "outputs": [
    {
     "name": "stdout",
     "output_type": "stream",
     "text": [
      "<class 'float'>\n",
      "<class 'int'>\n",
      "11\n"
     ]
    }
   ],
   "source": [
    "a = 11.5\n",
    "print(type(a))\n",
    "a = int(a)\n",
    "print(type(a))\n",
    "print(a)"
   ]
  },
  {
   "cell_type": "raw",
   "id": "129b42ef",
   "metadata": {},
   "source": [
    "4. Write a program to take details from a student for id card and then print it in different lines."
   ]
  },
  {
   "cell_type": "code",
   "execution_count": 15,
   "id": "32977962",
   "metadata": {},
   "outputs": [
    {
     "name": "stdout",
     "output_type": "stream",
     "text": [
      "Enter the name of the student: Aditya singh\n",
      "Enter the grade of the student: 8th\n",
      "Enter the age of student: 15\n",
      "Enter teh email of the student: adityasingh2426@gmail.com\n",
      "Enter the phone number of the student: 93108210765\n",
      "Student Identity Card\n",
      "name: Aditya singh\n",
      "grade: 8th\n",
      "age: 15\n",
      "email: adityasingh2426@gmail.com\n",
      "ph_no: 93108210765\n"
     ]
    }
   ],
   "source": [
    "name = input(\"Enter the name of the student: \")\n",
    "grade = input(\"Enter the grade of the student: \")\n",
    "age = int(input(\"Enter the age of student: \"))\n",
    "email = input (\"Enter teh email of the student: \")\n",
    "ph_no = input(\"Enter the phone number of the student: \")\n",
    "print(\"Student Identity Card\")\n",
    "print(\"name:\",name)\n",
    "print(\"grade:\",grade)\n",
    "print(\"age:\",age)\n",
    "print(\"email:\",email)\n",
    "print(\"ph_no:\",ph_no)"
   ]
  },
  {
   "cell_type": "raw",
   "id": "ffcd6770",
   "metadata": {},
   "source": [
    "5. Write a program to take an user input as integer then convert to float."
   ]
  },
  {
   "cell_type": "code",
   "execution_count": 16,
   "id": "0257f5ef",
   "metadata": {},
   "outputs": [
    {
     "name": "stdout",
     "output_type": "stream",
     "text": [
      "enter a number here: 23\n",
      "23\n",
      "<class 'int'>\n",
      "23.0\n",
      "<class 'float'>\n"
     ]
    }
   ],
   "source": [
    "a = int(input(\"enter a number here: \"))\n",
    "print(a)\n",
    "print(type(a))\n",
    "a = float(a)\n",
    "print(a)\n",
    "print(type(a))"
   ]
  },
  {
   "cell_type": "markdown",
   "id": "02bbff9b",
   "metadata": {},
   "source": [
    "# Problem Solving - 2"
   ]
  },
  {
   "cell_type": "raw",
   "id": "0448c1e6",
   "metadata": {},
   "source": [
    "1. Write a program to check if a number is positive ."
   ]
  },
  {
   "cell_type": "code",
   "execution_count": 1,
   "id": "0986830d",
   "metadata": {},
   "outputs": [
    {
     "name": "stdout",
     "output_type": "stream",
     "text": [
      "enter a number here:-23\n",
      "it is negative\n"
     ]
    }
   ],
   "source": [
    "num = int(input(\"enter a number here:\"))\n",
    "if num >0:\n",
    "    print(\"it is positive\")\n",
    "else:\n",
    "    print(\"it is negative\")"
   ]
  },
  {
   "cell_type": "code",
   "execution_count": 2,
   "id": "3fed15af",
   "metadata": {},
   "outputs": [
    {
     "name": "stdout",
     "output_type": "stream",
     "text": [
      "enter a number here:23\n",
      "it is positive\n"
     ]
    }
   ],
   "source": [
    "num = int(input(\"enter a number here:\"))\n",
    "if num >0:\n",
    "    print(\"it is positive\")\n",
    "else:\n",
    "    print(\"it is negative\")"
   ]
  },
  {
   "cell_type": "raw",
   "id": "ceb27a71",
   "metadata": {},
   "source": [
    "2. Write a program to check whether a number is odd or even."
   ]
  },
  {
   "cell_type": "code",
   "execution_count": 3,
   "id": "0ec63a45",
   "metadata": {},
   "outputs": [
    {
     "name": "stdout",
     "output_type": "stream",
     "text": [
      "enter a number here:1\n",
      "it is an odd number\n"
     ]
    }
   ],
   "source": [
    "num = int(input(\"enter a number here:\"))\n",
    "if num % 2 == 0:\n",
    "    print(\"it is an even number\")\n",
    "else:\n",
    "    print(\"it is an odd number\")"
   ]
  },
  {
   "cell_type": "code",
   "execution_count": 5,
   "id": "7eb0004c",
   "metadata": {},
   "outputs": [
    {
     "name": "stdout",
     "output_type": "stream",
     "text": [
      "enter a number here:48479832832\n",
      "it is an even number\n"
     ]
    }
   ],
   "source": [
    "num = int(input(\"enter a number here:\"))\n",
    "if num % 2 == 0:\n",
    "    print(\"it is an even number\")\n",
    "else:\n",
    "    print(\"it is an odd number\")"
   ]
  },
  {
   "cell_type": "raw",
   "id": "e2051f24",
   "metadata": {},
   "source": [
    "3. Write a program to create area calculator."
   ]
  },
  {
   "cell_type": "code",
   "execution_count": 1,
   "id": "e7c6e09a",
   "metadata": {},
   "outputs": [
    {
     "name": "stdout",
     "output_type": "stream",
     "text": [
      "****AREA CALCULATOR****\n",
      "press 1 to get the area of square\n",
      "press 2 to get the area of rectangle\n",
      "press 3 to get the area of circle\n",
      "press 4 to get the area of triangle\n",
      "enter a number between 1-4: 1\n",
      "enter the area of square: 22\n",
      "the area of square is 484.0\n"
     ]
    }
   ],
   "source": [
    "print(\"****AREA CALCULATOR****\")\n",
    "print(\"\"\"press 1 to get the area of square\n",
    "press 2 to get the area of rectangle\n",
    "press 3 to get the area of circle\n",
    "press 4 to get the area of triangle\"\"\")\n",
    "\n",
    "choice = int(input(\"enter a number between 1-4: \"))\n",
    "\n",
    "if choice == 1:\n",
    "    side = float(input(\"enter the area of square: \"))\n",
    "    area = side**2\n",
    "    print(\"the area of square is\",area)\n",
    "    \n",
    "elif choice == 2:\n",
    "    length = float(input(\"enter the length of the rectangle: \"))\n",
    "    width = float(input(\"enter the width of the rectangle: \"))\n",
    "    area = length*width\n",
    "    print(\"the area of rectangle is\",area)\n",
    "    \n",
    "elif choice == 3:\n",
    "    radius = float(input(\"enter the radius of the circle: \"))\n",
    "    area = ((22/7)*(radius**2))\n",
    "    print(\"the area of the circle\",area)\n",
    "    \n",
    "elif choice == 4:\n",
    "    base = float(input(\"enter the base of the triangle: \"))\n",
    "    height = float(input(\"enter the height of the triangle: \"))\n",
    "    area = 0.5*base*height\n",
    "    print(\"the area of the triangle is\",area)\n",
    "    \n",
    "else:\n",
    "    print(\"invalid input\")"
   ]
  },
  {
   "cell_type": "code",
   "execution_count": 2,
   "id": "dabae480",
   "metadata": {},
   "outputs": [
    {
     "name": "stdout",
     "output_type": "stream",
     "text": [
      "****AREA CALCULATOR****\n",
      "press 1 to get the area of square\n",
      "press 2 to get the area of rectangle\n",
      "press 3 to get the area of circle\n",
      "press 4 to get the area of triangle\n",
      "enter a number between 1-4: 2\n",
      "enter the length of the rectangle: 22\n",
      "enter the width of the rectangle: 33\n",
      "the area of rectangle is 726.0\n"
     ]
    }
   ],
   "source": [
    "print(\"****AREA CALCULATOR****\")\n",
    "print(\"\"\"press 1 to get the area of square\n",
    "press 2 to get the area of rectangle\n",
    "press 3 to get the area of circle\n",
    "press 4 to get the area of triangle\"\"\")\n",
    "\n",
    "choice = int(input(\"enter a number between 1-4: \"))\n",
    "\n",
    "if choice == 1:\n",
    "    side = float(input(\"enter the area of square: \"))\n",
    "    area = side**2\n",
    "    print(\"the area of square is\",area)\n",
    "    \n",
    "elif choice == 2:\n",
    "    length = float(input(\"enter the length of the rectangle: \"))\n",
    "    width = float(input(\"enter the width of the rectangle: \"))\n",
    "    area = length*width\n",
    "    print(\"the area of rectangle is\",area)\n",
    "    \n",
    "elif choice == 3:\n",
    "    radius = float(input(\"enter the radius of the circle: \"))\n",
    "    area = ((22/7)*(radius**2))\n",
    "    print(\"the area of the circle\",area)\n",
    "    \n",
    "elif choice == 4:\n",
    "    base = float(input(\"enter the base of the triangle: \"))\n",
    "    height = float(input(\"enter the height of the triangle: \"))\n",
    "    area = 0.5*base*height\n",
    "    print(\"the area of the triangle is\",area)\n",
    "    \n",
    "else:\n",
    "    print(\"invalid input\")"
   ]
  },
  {
   "cell_type": "code",
   "execution_count": 3,
   "id": "48533444",
   "metadata": {},
   "outputs": [
    {
     "name": "stdout",
     "output_type": "stream",
     "text": [
      "****AREA CALCULATOR****\n",
      "press 1 to get the area of square\n",
      "press 2 to get the area of rectangle\n",
      "press 3 to get the area of circle\n",
      "press 4 to get the area of triangle\n",
      "enter a number between 1-4: 3\n",
      "enter the radius of the circle: 24\n",
      "the area of the circle 1810.2857142857142\n"
     ]
    }
   ],
   "source": [
    "print(\"****AREA CALCULATOR****\")\n",
    "print(\"\"\"press 1 to get the area of square\n",
    "press 2 to get the area of rectangle\n",
    "press 3 to get the area of circle\n",
    "press 4 to get the area of triangle\"\"\")\n",
    "\n",
    "choice = int(input(\"enter a number between 1-4: \"))\n",
    "\n",
    "if choice == 1:\n",
    "    side = float(input(\"enter the area of square: \"))\n",
    "    area = side**2\n",
    "    print(\"the area of square is\",area)\n",
    "    \n",
    "elif choice == 2:\n",
    "    length = float(input(\"enter the length of the rectangle: \"))\n",
    "    width = float(input(\"enter the width of the rectangle: \"))\n",
    "    area = length*width\n",
    "    print(\"the area of rectangle is\",area)\n",
    "    \n",
    "elif choice == 3:\n",
    "    radius = float(input(\"enter the radius of the circle: \"))\n",
    "    area = ((22/7)*(radius**2))\n",
    "    print(\"the area of the circle\",area)\n",
    "    \n",
    "elif choice == 4:\n",
    "    base = float(input(\"enter the base of the triangle: \"))\n",
    "    height = float(input(\"enter the height of the triangle: \"))\n",
    "    area = 0.5*base*height\n",
    "    print(\"the area of the triangle is\",area)\n",
    "    \n",
    "else:\n",
    "    print(\"invalid input\")"
   ]
  },
  {
   "cell_type": "code",
   "execution_count": 4,
   "id": "de12632a",
   "metadata": {},
   "outputs": [
    {
     "name": "stdout",
     "output_type": "stream",
     "text": [
      "****AREA CALCULATOR****\n",
      "press 1 to get the area of square\n",
      "press 2 to get the area of rectangle\n",
      "press 3 to get the area of circle\n",
      "press 4 to get the area of triangle\n",
      "enter a number between 1-4: 4\n",
      "enter the base of the triangle: 33\n",
      "enter the height of the triangle: 90\n",
      "the area of the triangle is 1485.0\n"
     ]
    }
   ],
   "source": [
    "print(\"****AREA CALCULATOR****\")\n",
    "print(\"\"\"press 1 to get the area of square\n",
    "press 2 to get the area of rectangle\n",
    "press 3 to get the area of circle\n",
    "press 4 to get the area of triangle\"\"\")\n",
    "\n",
    "choice = int(input(\"enter a number between 1-4: \"))\n",
    "\n",
    "if choice == 1:\n",
    "    side = float(input(\"enter the area of square: \"))\n",
    "    area = side**2\n",
    "    print(\"the area of square is\",area)\n",
    "    \n",
    "elif choice == 2:\n",
    "    length = float(input(\"enter the length of the rectangle: \"))\n",
    "    width = float(input(\"enter the width of the rectangle: \"))\n",
    "    area = length*width\n",
    "    print(\"the area of rectangle is\",area)\n",
    "    \n",
    "elif choice == 3:\n",
    "    radius = float(input(\"enter the radius of the circle: \"))\n",
    "    area = ((22/7)*(radius**2))\n",
    "    print(\"the area of the circle\",area)\n",
    "    \n",
    "elif choice == 4:\n",
    "    base = float(input(\"enter the base of the triangle: \"))\n",
    "    height = float(input(\"enter the height of the triangle: \"))\n",
    "    area = 0.5*base*height\n",
    "    print(\"the area of the triangle is\",area)\n",
    "    \n",
    "else:\n",
    "    print(\"invalid input\")"
   ]
  },
  {
   "cell_type": "raw",
   "id": "9f43000a",
   "metadata": {},
   "source": [
    "4. Write a program check whether the passed letter is a vowel or not."
   ]
  },
  {
   "cell_type": "code",
   "execution_count": 5,
   "id": "7f615bde",
   "metadata": {},
   "outputs": [
    {
     "name": "stdout",
     "output_type": "stream",
     "text": [
      "enter a letter here: e\n",
      "it is vowel\n"
     ]
    }
   ],
   "source": [
    "letter = input(\"enter a letter here: \")\n",
    "if letter in \"aeiou\":\n",
    "    print(\"it is vowel\")\n",
    "else:\n",
    "    print(\"it is not vowel\")"
   ]
  },
  {
   "cell_type": "raw",
   "id": "46ed50a1",
   "metadata": {},
   "source": [
    "letter = input(\"enter a letter here: \")\n",
    "if letter in \"aeiou\":\n",
    "    print(\"it is vowel\")\n",
    "else:\n",
    "    print(\"it is not vowel\")"
   ]
  },
  {
   "cell_type": "code",
   "execution_count": 7,
   "id": "eaffce8b",
   "metadata": {},
   "outputs": [
    {
     "name": "stdout",
     "output_type": "stream",
     "text": [
      "enter a letter here: A\n",
      "it is vowel\n"
     ]
    }
   ],
   "source": [
    "letter = input(\"enter a letter here: \")\n",
    "if (letter in \"aeiou\") or (letter in \"AEIOU\"):\n",
    "    print(\"it is vowel\")\n",
    "else:\n",
    "    print(\"it is not vowel\")"
   ]
  },
  {
   "cell_type": "raw",
   "id": "34102581",
   "metadata": {},
   "source": [
    "5.  Write a program to check if a number is a single digit number, 2 - digit number and so on .., up to 5 digits."
   ]
  },
  {
   "cell_type": "code",
   "execution_count": 8,
   "id": "c2876c18",
   "metadata": {},
   "outputs": [
    {
     "name": "stdout",
     "output_type": "stream",
     "text": [
      "enter a number here up to 5 digits: 2\n",
      "it is a single digit number\n"
     ]
    }
   ],
   "source": [
    "num = int(input(\"enter a number here up to 5 digits: \"))\n",
    "if num >= 0 and num <= 9:\n",
    "    print(\"it is a single digit number\")\n",
    "    \n",
    "elif num>=10 and num<=99:\n",
    "    print(\"it is a double digit number\")\n",
    "    \n",
    "elif num>=100 and num<=999:\n",
    "    print(\"it is a triple digit number\")\n",
    "    \n",
    "elif num>=1000 and num<=9999:\n",
    "    print(\"it is a four digit number\")\n",
    "    \n",
    "else:\n",
    "    print(\"it is a five digit number\")"
   ]
  },
  {
   "cell_type": "code",
   "execution_count": 9,
   "id": "e6d6e51f",
   "metadata": {},
   "outputs": [
    {
     "name": "stdout",
     "output_type": "stream",
     "text": [
      "enter a number here up to 5 digits: 45\n",
      "it is a double digit number\n"
     ]
    }
   ],
   "source": [
    "num = int(input(\"enter a number here up to 5 digits: \"))\n",
    "if num >= 0 and num <= 9:\n",
    "    print(\"it is a single digit number\")\n",
    "    \n",
    "elif num>=10 and num<=99:\n",
    "    print(\"it is a double digit number\")\n",
    "    \n",
    "elif num>=100 and num<=999:\n",
    "    print(\"it is a triple digit number\")\n",
    "    \n",
    "elif num>=1000 and num<=9999:\n",
    "    print(\"it is a four digit number\")\n",
    "    \n",
    "else:\n",
    "    print(\"it is a five digit number\")"
   ]
  },
  {
   "cell_type": "code",
   "execution_count": 10,
   "id": "e6f1771a",
   "metadata": {},
   "outputs": [
    {
     "name": "stdout",
     "output_type": "stream",
     "text": [
      "enter a number here up to 5 digits: 777\n",
      "it is a triple digit number\n"
     ]
    }
   ],
   "source": [
    "num = int(input(\"enter a number here up to 5 digits: \"))\n",
    "if num >= 0 and num <= 9:\n",
    "    print(\"it is a single digit number\")\n",
    "    \n",
    "elif num>=10 and num<=99:\n",
    "    print(\"it is a double digit number\")\n",
    "    \n",
    "elif num>=100 and num<=999:\n",
    "    print(\"it is a triple digit number\")\n",
    "    \n",
    "elif num>=1000 and num<=9999:\n",
    "    print(\"it is a four digit number\")\n",
    "    \n",
    "else:\n",
    "    print(\"it is a five digit number\")"
   ]
  },
  {
   "cell_type": "code",
   "execution_count": 11,
   "id": "3722fe73",
   "metadata": {},
   "outputs": [
    {
     "name": "stdout",
     "output_type": "stream",
     "text": [
      "enter a number here up to 5 digits: 8888\n",
      "it is a four digit number\n"
     ]
    }
   ],
   "source": [
    "num = int(input(\"enter a number here up to 5 digits: \"))\n",
    "if num >= 0 and num <= 9:\n",
    "    print(\"it is a single digit number\")\n",
    "    \n",
    "elif num>=10 and num<=99:\n",
    "    print(\"it is a double digit number\")\n",
    "    \n",
    "elif num>=100 and num<=999:\n",
    "    print(\"it is a triple digit number\")\n",
    "    \n",
    "elif num>=1000 and num<=9999:\n",
    "    print(\"it is a four digit number\")\n",
    "    \n",
    "else:\n",
    "    print(\"it is a five digit number\")"
   ]
  },
  {
   "cell_type": "code",
   "execution_count": 12,
   "id": "1a523758",
   "metadata": {},
   "outputs": [
    {
     "name": "stdout",
     "output_type": "stream",
     "text": [
      "enter a number here up to 5 digits: 90000\n",
      "it is a five digit number\n"
     ]
    }
   ],
   "source": [
    "num = int(input(\"enter a number here up to 5 digits: \"))\n",
    "if num >= 0 and num <= 9:\n",
    "    print(\"it is a single digit number\")\n",
    "    \n",
    "elif num>=10 and num<=99:\n",
    "    print(\"it is a double digit number\")\n",
    "    \n",
    "elif num>=100 and num<=999:\n",
    "    print(\"it is a triple digit number\")\n",
    "    \n",
    "elif num>=1000 and num<=9999:\n",
    "    print(\"it is a four digit number\")\n",
    "    \n",
    "else:\n",
    "    print(\"it is a five digit number\")\n"
   ]
  },
  {
   "cell_type": "code",
   "execution_count": null,
   "id": "7be7f264",
   "metadata": {},
   "outputs": [],
   "source": []
  }
 ],
 "metadata": {
  "kernelspec": {
   "display_name": "Python 3 (ipykernel)",
   "language": "python",
   "name": "python3"
  },
  "language_info": {
   "codemirror_mode": {
    "name": "ipython",
    "version": 3
   },
   "file_extension": ".py",
   "mimetype": "text/x-python",
   "name": "python",
   "nbconvert_exporter": "python",
   "pygments_lexer": "ipython3",
   "version": "3.11.4"
  }
 },
 "nbformat": 4,
 "nbformat_minor": 5
}
